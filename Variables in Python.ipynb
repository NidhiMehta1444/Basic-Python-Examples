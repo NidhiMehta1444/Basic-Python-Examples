{
 "cells": [
  {
   "cell_type": "markdown",
   "id": "9f56c56a",
   "metadata": {},
   "source": [
    "# TASK 1: UNDERSTAND VARIABLES ASSIGNMENT"
   ]
  },
  {
   "cell_type": "code",
   "execution_count": 3,
   "id": "54882711",
   "metadata": {},
   "outputs": [],
   "source": [
    "# Define a variable name 'x' and assign a number (integer) to it\n",
    "# integer is a whole number that could be positive and negative\n",
    "\n",
    "x = 400"
   ]
  },
  {
   "cell_type": "code",
   "execution_count": 4,
   "id": "c194977c",
   "metadata": {},
   "outputs": [
    {
     "data": {
      "text/plain": [
       "400"
      ]
     },
     "execution_count": 4,
     "metadata": {},
     "output_type": "execute_result"
    }
   ],
   "source": [
    "# Let's view 'x'\n",
    "\n",
    "# this is my first code in python\n",
    "\n",
    "x"
   ]
  },
  {
   "cell_type": "code",
   "execution_count": 19,
   "id": "71f918e8",
   "metadata": {},
   "outputs": [],
   "source": [
    "#get the datatype of x which is 'integer'"
   ]
  },
  {
   "cell_type": "code",
   "execution_count": 20,
   "id": "5195b74b",
   "metadata": {},
   "outputs": [
    {
     "data": {
      "text/plain": [
       "int"
      ]
     },
     "execution_count": 20,
     "metadata": {},
     "output_type": "execute_result"
    }
   ],
   "source": [
    "type (x)"
   ]
  },
  {
   "cell_type": "code",
   "execution_count": 10,
   "id": "01435c59",
   "metadata": {},
   "outputs": [],
   "source": [
    "# Define a variable named 'y' and assign a number (float) to it\n",
    "# Float are real numbers with a decimal point dividing the integer and fractional parts\n",
    "\n",
    "y = 500.50"
   ]
  },
  {
   "cell_type": "code",
   "execution_count": 11,
   "id": "1cb1df75",
   "metadata": {},
   "outputs": [
    {
     "data": {
      "text/plain": [
       "500.5"
      ]
     },
     "execution_count": 11,
     "metadata": {},
     "output_type": "execute_result"
    }
   ],
   "source": [
    "# Let's view 'y'\n",
    "\n",
    "y"
   ]
  },
  {
   "cell_type": "code",
   "execution_count": 12,
   "id": "85191d14",
   "metadata": {},
   "outputs": [],
   "source": [
    "# Let's overwrite 'y' (assume your portfolio value increased)\n",
    "\n",
    "y=330.5"
   ]
  },
  {
   "cell_type": "code",
   "execution_count": 13,
   "id": "b91b10b8",
   "metadata": {},
   "outputs": [
    {
     "data": {
      "text/plain": [
       "330.5"
      ]
     },
     "execution_count": 13,
     "metadata": {},
     "output_type": "execute_result"
    }
   ],
   "source": [
    "# Notice that 'y' will only contain most recent value\n",
    "\n",
    "y"
   ]
  },
  {
   "cell_type": "code",
   "execution_count": 21,
   "id": "e81c501b",
   "metadata": {},
   "outputs": [],
   "source": [
    "# get the datatype of y which is 'float'"
   ]
  },
  {
   "cell_type": "code",
   "execution_count": 22,
   "id": "6c91f9d1",
   "metadata": {},
   "outputs": [
    {
     "data": {
      "text/plain": [
       "float"
      ]
     },
     "execution_count": 22,
     "metadata": {},
     "output_type": "execute_result"
    }
   ],
   "source": [
    "type(y)"
   ]
  },
  {
   "cell_type": "markdown",
   "id": "f6b1be4c",
   "metadata": {},
   "source": [
    "# MINI CHALLENGE #1\n",
    "\n",
    "We defined a variable z and we assigned these 4 values listed below to it. Without executing any code what will these lines of \n",
    "code generate? Verify your answer by executing the code cells\n",
    "\n",
    "z = 1000\n",
    "z = 2000\n",
    "z = 5000\n",
    "z = 6000\n",
    "z"
   ]
  },
  {
   "cell_type": "code",
   "execution_count": 16,
   "id": "6d2da136",
   "metadata": {},
   "outputs": [
    {
     "data": {
      "text/plain": [
       "6000"
      ]
     },
     "execution_count": 16,
     "metadata": {},
     "output_type": "execute_result"
    }
   ],
   "source": [
    "z = 1000\n",
    "z = 2000\n",
    "z = 5000\n",
    "z = 6000\n",
    "z"
   ]
  },
  {
   "cell_type": "markdown",
   "id": "4163b41d",
   "metadata": {},
   "source": [
    "# TASK #2 : PERFORM MATH OPERATIONS IN PYTHON"
   ]
  },
  {
   "cell_type": "code",
   "execution_count": 17,
   "id": "50252ff2",
   "metadata": {},
   "outputs": [],
   "source": [
    "# define a variable named i and initialize it with 20\n",
    "# Let's assume that we want to increment the value by 4"
   ]
  },
  {
   "cell_type": "code",
   "execution_count": 25,
   "id": "ffba815d",
   "metadata": {},
   "outputs": [
    {
     "name": "stdout",
     "output_type": "stream",
     "text": [
      "24\n"
     ]
    }
   ],
   "source": [
    "i = 20\n",
    "i = i + 4\n",
    "print(i)"
   ]
  },
  {
   "cell_type": "code",
   "execution_count": 26,
   "id": "12e2f1f8",
   "metadata": {},
   "outputs": [
    {
     "name": "stdout",
     "output_type": "stream",
     "text": [
      "150\n"
     ]
    }
   ],
   "source": [
    "# Let's assume you own a little grocery store\n",
    "# The price of 1 bottle of milk is $3 and we currently have 50 bottles\n",
    "# We can calculate the total dollar value of our inventory as follows:\n",
    "\n",
    "count = 50\n",
    "price = 3\n",
    "inventory = count * price\n",
    "print(inventory)"
   ]
  },
  {
   "cell_type": "code",
   "execution_count": null,
   "id": "00eb6355",
   "metadata": {},
   "outputs": [],
   "source": [
    "# Let's assume you have $550 USD in your bank account\n",
    "# We want to buy x number of IBM stocks using the total amount\n",
    "# Each IBM stock is priced at $128 each\n",
    "\n"
   ]
  }
 ],
 "metadata": {
  "kernelspec": {
   "display_name": "Python 3 (ipykernel)",
   "language": "python",
   "name": "python3"
  },
  "language_info": {
   "codemirror_mode": {
    "name": "ipython",
    "version": 3
   },
   "file_extension": ".py",
   "mimetype": "text/x-python",
   "name": "python",
   "nbconvert_exporter": "python",
   "pygments_lexer": "ipython3",
   "version": "3.9.13"
  }
 },
 "nbformat": 4,
 "nbformat_minor": 5
}
